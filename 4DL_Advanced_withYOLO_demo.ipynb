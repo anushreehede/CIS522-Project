{
 "cells": [
  {
   "cell_type": "markdown",
   "metadata": {},
   "source": [
    "# Deep learning advanced with yolo features demo\n",
    "This notebook will guide you how we did for the deep learning advanced with yolo features model."
   ]
  },
  {
   "cell_type": "markdown",
   "metadata": {},
   "source": [
    "### Check if you have Required file(under this root dir):  \n",
    "    ./\n",
    "        v2_mscoco_train2014_annotations.json\n",
    "        v2_mscoco_val2014_annotations.json\n",
    "        bad_im_files_train.npy\n",
    "        bad_im_files_val.npy\n",
    "        training_annotations.npy\n",
    "        vqa_py3.py\n",
    "        dl_advanced_model_withYOLO.py\n",
    "**************************************************************************************"
   ]
  },
  {
   "cell_type": "markdown",
   "metadata": {},
   "source": [
    "### 1.0 Download needed image features\n",
    "#### option 1(Recommend)\n",
    "Run the code below\n",
    "\n",
    "#### option 2\n",
    "Download **fasterrcnn_output.zip** to root dir, unzip it, and rename the unzipped dir: **fasterrcnn_output**\n",
    "\n",
    "Drive link: https://drive.google.com/open?id=1RwPiZo0g6JDPOIblmg0jDpDQf_ZWvi8F \n",
    "\n",
    "Download **yolo_feats.zip** to root dir, unzip it, and rename the unzipped dir: **yolo_feats**\n",
    "\n",
    "Drive link: https://drive.google.com/file/d/1MBYlua5jg-DXI23f6T9gYZnU1JFZTEGX/view?usp=sharing"
   ]
  },
  {
   "cell_type": "code",
   "execution_count": 1,
   "metadata": {},
   "outputs": [],
   "source": [
    "# Define function for downloading big file from drive:\n",
    "import requests\n",
    "\n",
    "def download_file_from_google_drive(id, destination):\n",
    "    URL = \"https://docs.google.com/uc?export=download\"\n",
    "\n",
    "    session = requests.Session()\n",
    "\n",
    "    response = session.get(URL, params = { 'id' : id }, stream = True)\n",
    "    token = get_confirm_token(response)\n",
    "\n",
    "    if token:\n",
    "        params = { 'id' : id, 'confirm' : token }\n",
    "        response = session.get(URL, params = params, stream = True)\n",
    "\n",
    "    save_response_content(response, destination)    \n",
    "\n",
    "def get_confirm_token(response):\n",
    "    for key, value in response.cookies.items():\n",
    "        if key.startswith('download_warning'):\n",
    "            return value\n",
    "\n",
    "    return None\n",
    "\n",
    "def save_response_content(response, destination):\n",
    "    CHUNK_SIZE = 32768\n",
    "\n",
    "    with open(destination, \"wb\") as f:\n",
    "        for chunk in response.iter_content(CHUNK_SIZE):\n",
    "            if chunk: # filter out keep-alive new chunks\n",
    "                f.write(chunk)"
   ]
  },
  {
   "cell_type": "code",
   "execution_count": 2,
   "metadata": {},
   "outputs": [],
   "source": [
    "file_id = '1RwPiZo0g6JDPOIblmg0jDpDQf_ZWvi8F'\n",
    "destination = 'fasterrcnn_output.zip'\n",
    "download_file_from_google_drive(file_id, destination)"
   ]
  },
  {
   "cell_type": "code",
   "execution_count": null,
   "metadata": {},
   "outputs": [],
   "source": [
    "!unzip -qq fasterrcnn_output.zip"
   ]
  },
  {
   "cell_type": "code",
   "execution_count": 8,
   "metadata": {},
   "outputs": [
    {
     "name": "stdout",
     "output_type": "stream",
     "text": [
      "all example:  123287\n"
     ]
    }
   ],
   "source": [
    "import os\n",
    "examples = sum([len(files) for r, d, files in os.walk(\"fasterrcnn_output\")])\n",
    "\n",
    "print(\"all example: \", examples)"
   ]
  },
  {
   "cell_type": "code",
   "execution_count": 48,
   "metadata": {},
   "outputs": [],
   "source": [
    "file_id = '1MBYlua5jg-DXI23f6T9gYZnU1JFZTEGX'\n",
    "destination = 'yolo_feats.zip'\n",
    "download_file_from_google_drive(file_id, destination)"
   ]
  },
  {
   "cell_type": "code",
   "execution_count": 49,
   "metadata": {},
   "outputs": [],
   "source": [
    "import zipfile\n",
    "with zipfile.ZipFile(\"yolo_feats.zip\",\"r\") as zip_ref:\n",
    "    zip_ref.extractall(\"yolo_feats\")"
   ]
  },
  {
   "cell_type": "code",
   "execution_count": 1,
   "metadata": {},
   "outputs": [
    {
     "name": "stdout",
     "output_type": "stream",
     "text": [
      "Train example:  82783\n",
      "Validation example:  40504\n"
     ]
    }
   ],
   "source": [
    "import os\n",
    "train = sum([len(files) for r, d, files in os.walk(\"yolo_feats/train2014\")])\n",
    "val = sum([len(files) for r, d, files in os.walk(\"yolo_feats/val2014\")])\n",
    "print(\"Train example: \", train)\n",
    "print(\"Validation example: \", val)"
   ]
  },
  {
   "cell_type": "markdown",
   "metadata": {},
   "source": [
    "### 1.1 Install required packages\n",
    "Next we will first download the required packeges"
   ]
  },
  {
   "cell_type": "code",
   "execution_count": null,
   "metadata": {},
   "outputs": [],
   "source": [
    "# Install requirement package\n",
    "!pip install -r requirements.txt"
   ]
  },
  {
   "cell_type": "markdown",
   "metadata": {},
   "source": [
    "### 2.0 Run non_dl_baseline script\n",
    "Then simply run our script to training and save your model"
   ]
  },
  {
   "cell_type": "code",
   "execution_count": null,
   "metadata": {},
   "outputs": [],
   "source": [
    "!python dl_advanced_model_withYOLO.py"
   ]
  },
  {
   "cell_type": "markdown",
   "metadata": {},
   "source": [
    "### 3.0 Check your training/validation accuracy\n",
    "Run the code below to draw a accuracy plot for the training process you just done! "
   ]
  },
  {
   "cell_type": "code",
   "execution_count": null,
   "metadata": {},
   "outputs": [],
   "source": [
    "import matplotlib.pyplot as plt\n",
    "import numpy as np\n",
    "\n",
    "s = np.load('dl_advance_log/with_yolo/train_acc.npy', allow_pickle=True).item()\n",
    "accuracies = []\n",
    "epochs = list(range(1, len(s.keys())+1))\n",
    "for epoch in s.keys():\n",
    "#     for i in range(0, len(s[epoch]), 20):\n",
    "    accuracies.append(s[epoch][-1])\n",
    "\n",
    "plt.plot(epochs, accuracies)\n",
    "\n",
    "v = np.load('dl_advance_log/with_yolo/val_acc.npy', allow_pickle=True).item()\n",
    "val = []\n",
    "for epoch in v.keys():\n",
    "#     for i in range(0, len(s[epoch]), 20):\n",
    "    val.append(v[epoch])\n",
    "plt.plot(epochs, val)\n",
    "plt.legend(['Train Accuracy', 'Val Accuracy'], loc='upper left')\n",
    "plt.xlabel(\"Epochs\")\n",
    "plt.ylabel(\"Accuracy\")\n",
    "plt.show()\n",
    "plt.savefig('Accuracy_dl.png')"
   ]
  }
 ],
 "metadata": {
  "kernelspec": {
   "display_name": "conda_pytorch_p36",
   "language": "python",
   "name": "conda_pytorch_p36"
  },
  "language_info": {
   "codemirror_mode": {
    "name": "ipython",
    "version": 3
   },
   "file_extension": ".py",
   "mimetype": "text/x-python",
   "name": "python",
   "nbconvert_exporter": "python",
   "pygments_lexer": "ipython3",
   "version": "3.6.5"
  }
 },
 "nbformat": 4,
 "nbformat_minor": 4
}
