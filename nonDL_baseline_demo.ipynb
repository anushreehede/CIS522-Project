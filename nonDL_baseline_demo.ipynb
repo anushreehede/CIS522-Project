{
 "cells": [
  {
   "cell_type": "markdown",
   "metadata": {},
   "source": [
    "# Non deep learning baseline demo\n",
    "    This notebook will guide you how we did for the none deep learning baseline model."
   ]
  },
  {
   "cell_type": "markdown",
   "metadata": {},
   "source": [
    "### Check if you have Required file(under this root dir):  \n",
    "    v2_mscoco_train2014_annotations.json\n",
    "    v2_mscoco_val2014_annotations.json\n",
    "    vqa_py3.py\n",
    "    non_dl_baseline.py\n",
    "    bad_im_files_train.py\n",
    "    bad_im_files_val.py\n",
    "**************************************************************************************"
   ]
  },
  {
   "cell_type": "markdown",
   "metadata": {},
   "source": [
    "### 1.0 Download needed image features\n",
    "download **Image_Features_ResNet.zip** to root dir, unzip it, and rename the unzipped dir: **Image_Features_ResNet**\n",
    "\n",
    "Drive link: https://drive.google.com/file/d/1psKgvo9aczbQq6UeG1GbmYgYSo-nz4gO/view "
   ]
  },
  {
   "cell_type": "code",
   "execution_count": null,
   "metadata": {},
   "outputs": [],
   "source": [
    "# down load zip and rename here:\n",
    "pass"
   ]
  },
  {
   "cell_type": "markdown",
   "metadata": {},
   "source": [
    "### 1.1 Install required packages\n",
    "Next we will first download the required packeges"
   ]
  },
  {
   "cell_type": "code",
   "execution_count": null,
   "metadata": {},
   "outputs": [],
   "source": [
    "# Install requirement package\n",
    "!pip install -r requirements.txt"
   ]
  },
  {
   "cell_type": "markdown",
   "metadata": {},
   "source": [
    "### 2.0 Run non_dl_baseline script\n",
    "Then simply run our script to training and save your model"
   ]
  },
  {
   "cell_type": "code",
   "execution_count": null,
   "metadata": {},
   "outputs": [],
   "source": [
    "!python non_dl_baseline.py"
   ]
  },
  {
   "cell_type": "markdown",
   "metadata": {},
   "source": [
    "### 3.0 Check your training/validation accuracy\n",
    "Run the code below to draw a accuracy plot for the training process you just done! "
   ]
  },
  {
   "cell_type": "code",
   "execution_count": null,
   "metadata": {},
   "outputs": [],
   "source": [
    "import matplotlib.pyplot as plt\n",
    "import numpy as np\n",
    "\n",
    "s = np.load('non_dl_train_acc.npy', allow_pickle=True).item()\n",
    "accuracies = []\n",
    "epochs = list(range(1, 21))\n",
    "for epoch in s.keys():\n",
    "#     for i in range(0, len(s[epoch]), 20):\n",
    "    accuracies.append(s[epoch][-1])\n",
    "\n",
    "plt.plot(epochs, accuracies)\n",
    "\n",
    "v = np.load('non_dl_val_acc.npy', allow_pickle=True).item()\n",
    "val = []\n",
    "for epoch in v.keys():\n",
    "#     for i in range(0, len(s[epoch]), 20):\n",
    "    val.append(v[epoch])\n",
    "plt.plot(epochs, val)\n",
    "plt.legend(['Train Accuracy', 'Val Accuracy'], loc='upper left')\n",
    "plt.xlabel(\"Epochs\")\n",
    "plt.ylabel(\"Accuracy\")\n",
    "plt.show()\n",
    "plt.savefig('Accuracy_non_dl.png')"
   ]
  }
 ],
 "metadata": {
  "kernelspec": {
   "display_name": "conda_pytorch_p36",
   "language": "python",
   "name": "conda_pytorch_p36"
  },
  "language_info": {
   "codemirror_mode": {
    "name": "ipython",
    "version": 3
   },
   "file_extension": ".py",
   "mimetype": "text/x-python",
   "name": "python",
   "nbconvert_exporter": "python",
   "pygments_lexer": "ipython3",
   "version": "3.6.5"
  }
 },
 "nbformat": 4,
 "nbformat_minor": 4
}
